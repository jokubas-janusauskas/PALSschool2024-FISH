{
 "cells": [
  {
   "cell_type": "markdown",
   "id": "3490ea7e-87e0-455c-ab20-8b579c72e6b1",
   "metadata": {},
   "source": [
    "## Let's download some data:\n",
    "### [Mouse brain EEL dataset, 440 genes](https://figshare.com/articles/dataset/EEL_mouse_sagittal_440_gene_RNA_spatial_data/20324820)\n",
    "### [Mouse brain EEL dataset, 168 genes, OPTIONAL](https://figshare.com/ndownloader/files/37552918)\n",
    "### [Mouse brain scRNA-seq dataset, aggregated](https://storage.googleapis.com/linnarsson-lab-loom/l5_all.agg.loom)"
   ]
  },
  {
   "cell_type": "markdown",
   "id": "c1c873e6-fdaa-4cfb-9025-0ad61e6a8c4a",
   "metadata": {},
   "source": [
    "## Import packages"
   ]
  },
  {
   "cell_type": "code",
   "execution_count": null,
   "id": "a3c18fa9-cf5e-45eb-8228-d934f0e70a2a",
   "metadata": {},
   "outputs": [],
   "source": [
    "import napari\n",
    "import random\n",
    "import numpy as np\n",
    "import pandas as pd\n",
    "from FISHscale.utils import dataset\n",
    "import matplotlib.pyplot as plt\n",
    "from mpl_toolkits.axes_grid1 import make_axes_locatable\n",
    "import BoneFight.bone_fight as bf\n",
    "import loompy"
   ]
  },
  {
   "cell_type": "markdown",
   "id": "a836402b-d5ad-48ee-8eeb-d79991cb6ce6",
   "metadata": {},
   "source": [
    "## Define data paths"
   ]
  },
  {
   "cell_type": "code",
   "execution_count": null,
   "id": "3bafd9fa-e2f9-434f-bcd6-14b555e9b4e8",
   "metadata": {},
   "outputs": [],
   "source": [
    "EEL_data_big = ''\n",
    "EEL_data_small = ''\n",
    "sc_data = ''"
   ]
  },
  {
   "cell_type": "markdown",
   "id": "1273f487-e1d5-4c2c-8c3b-83cd4aa83765",
   "metadata": {},
   "source": [
    "## Choose which EEL dataset will be used"
   ]
  },
  {
   "cell_type": "code",
   "execution_count": null,
   "id": "70ed9af0-82b3-48db-8f2c-d17f78351ffb",
   "metadata": {},
   "outputs": [],
   "source": [
    "EEL_data = EEL_data_big\n",
    "print(\"Total number of molecules: \" + str(len(pd.read_parquet(EEL_data))))"
   ]
  },
  {
   "cell_type": "code",
   "execution_count": null,
   "id": "04903a72-12e9-4243-adde-8d8fa8e1b5f3",
   "metadata": {},
   "outputs": [],
   "source": [
    "pd.read_parquet(EEL_data)['hamming_distance'].value_counts().plot(kind='bar')"
   ]
  },
  {
   "cell_type": "markdown",
   "id": "9be4f677-e9ac-4dbe-9f07-a42846858d28",
   "metadata": {},
   "source": [
    "## Plot EEL data using Napari"
   ]
  },
  {
   "cell_type": "code",
   "execution_count": null,
   "id": "6a6faab1-ccd5-47d6-81a8-ae3045ca26b0",
   "metadata": {},
   "outputs": [],
   "source": [
    "# Here we're simply grouping dots by their gene identity, assigning a random color to each group, and adding those points to the Napari viewer\n",
    "r = lambda: random.randint(0,255)\n",
    "data = pd.read_parquet(EEL_data)\n",
    "data = data.loc[data['Valid']==1]\n",
    "gene_grp = data.groupby('decoded_genes')\n",
    "\n",
    "viewer = napari.Viewer()\n",
    "for gene, coords in gene_grp:\n",
    "    coords = coords.loc[:,['r_px_microscope_stitched','c_px_microscope_stitched']].to_numpy()\n",
    "    col = '#%02X%02X%02X' % (r(),r(),r())\n",
    "    _ = viewer.add_points(coords, name=gene, size=6, symbol='o', visible=False, edge_color=col, face_color=col)"
   ]
  },
  {
   "cell_type": "markdown",
   "id": "ea197502-b76c-424c-bbff-e56b46bbe539",
   "metadata": {},
   "source": [
    "## Plot EEL data using FISHscale"
   ]
  },
  {
   "cell_type": "code",
   "execution_count": null,
   "id": "1797cbc8-00a9-4532-87b9-e4b738ac9f50",
   "metadata": {},
   "outputs": [],
   "source": [
    "# Here a FISHscale dataset object is created.\n",
    "d = dataset.Dataset(EEL_data,\n",
    "                    pixel_size = '0.27 micrometer',\n",
    "                    exclude_genes = ['Control1', 'Control2', 'Control3', 'Control4', 'Control5', 'Control6', 'Control7', 'Control8', 'Cre'],\n",
    "                    # If you want to inspect how the control \"genes\" look, comment out (#) the line above. \n",
    "                    verbose = True)\n",
    "\n",
    "if EEL_data == EEL_data_small:\n",
    "    d.flip_x()"
   ]
  },
  {
   "cell_type": "code",
   "execution_count": null,
   "id": "39f9be93-1d2f-41c1-85be-b06c1a01e018",
   "metadata": {},
   "outputs": [],
   "source": [
    "# Open the interactive viewer\n",
    "d.visualize()"
   ]
  },
  {
   "cell_type": "markdown",
   "id": "13b1bfba-8ff4-4c8f-998d-6fe2ffb128c5",
   "metadata": {},
   "source": [
    "## Bin the data into \"pseudocell\" hexagons"
   ]
  },
  {
   "cell_type": "code",
   "execution_count": null,
   "id": "e9658e60-d89f-48f1-a02f-91d56e76dc63",
   "metadata": {},
   "outputs": [],
   "source": [
    "df_hex, labels, hex_coord, df_mean, df_norm = d.regionalize(spacing=75, # You can play around with the size of hexagons by changing 'spacing' value\n",
    "                                                            min_count=10, \n",
    "                                                            n_components=[0,90],\n",
    "                                                            clust_dist_threshold=100)\n",
    "\n",
    "print(\"Number of hexagons: \" + str(np.shape(df_hex)[1]))"
   ]
  },
  {
   "cell_type": "markdown",
   "id": "086f0958-a7bb-49d4-9cd3-e10412cdeff7",
   "metadata": {},
   "source": [
    "## Inspect the transcriptomic landscape"
   ]
  },
  {
   "cell_type": "code",
   "execution_count": null,
   "id": "0162ea70-c467-4539-aefb-021bf4c85fce",
   "metadata": {
    "scrolled": true
   },
   "outputs": [],
   "source": [
    "tsne = d.hexbin_tsne_plot(df_hex, components = 2)"
   ]
  },
  {
   "cell_type": "markdown",
   "id": "e741c113-cbbd-4be2-a494-bcd57d323803",
   "metadata": {},
   "source": [
    "## Inspect transcriptomic similarity of regions"
   ]
  },
  {
   "cell_type": "code",
   "execution_count": null,
   "id": "4007c2ee-efae-401e-b94f-c6b8b4864218",
   "metadata": {},
   "outputs": [],
   "source": []
  },
  {
   "cell_type": "code",
   "execution_count": null,
   "id": "df2de359-c827-4bb7-be7b-66b8d0a36c3c",
   "metadata": {
    "scrolled": true
   },
   "outputs": [],
   "source": [
    "# Set plotting parameters\n",
    "fig = plt.figure(figsize=(20,10))\n",
    "gs = fig.add_gridspec(2, 4)\n",
    "ax0 = fig.add_subplot(gs[:, :2])\n",
    "ax1 = fig.add_subplot(gs[:, 2:])\n",
    "\n",
    "# Create a shared colormap\n",
    "labels_scaled = labels - labels.min()\n",
    "labels_scaled = labels_scaled / labels_scaled.max()\n",
    "colors = plt.cm.gist_ncar_r(labels_scaled)\n",
    "\n",
    "# Plot tsne\n",
    "ax0.scatter(tsne[:,0], tsne[:,1], s=3, c=colors)\n",
    "ax0.set_aspect('equal')\n",
    "ax0.set_axis_off()\n",
    "ax0.set_title('tSNE', fontsize=14)\n",
    "\n",
    "# Plot spatial\n",
    "d.hexbin_plot(labels_scaled, cm=plt.cm.gist_ncar_r, ax=ax1)\n",
    "ax1.set_axis_off()\n",
    "ax1.set_title('Spatial', fontsize=14)\n",
    "\n",
    "print(\"Number of regions: \" + str(np.shape(labels)[0]))"
   ]
  },
  {
   "cell_type": "markdown",
   "id": "68dd9695-9be9-4874-b2f3-a01577a08eb1",
   "metadata": {},
   "source": [
    "## Check which regions have strongest \"transcriptomic borders\""
   ]
  },
  {
   "cell_type": "code",
   "execution_count": null,
   "id": "b54a2bc0-22fb-45e7-b8b1-7bf18c4e4b38",
   "metadata": {},
   "outputs": [],
   "source": [
    "borders, image, grid, grid_filt, filt_grid, shape = d.boundaries_make(bin_size=75, n_angles=12, radius=250, normalize=True, normalization_mode='log')\n",
    "\n",
    "fig, ax = plt.subplots(figsize=(12,10))\n",
    "\n",
    "plt.imshow(image)\n",
    "ax.set_aspect('equal')\n",
    "ax.axis('off')\n",
    "ax.invert_yaxis();"
   ]
  },
  {
   "cell_type": "markdown",
   "id": "4812af09-b8e3-4467-981d-df3bdf43bcf4",
   "metadata": {},
   "source": [
    "## Inspect the transcriptomic profiles of regions manually"
   ]
  },
  {
   "cell_type": "code",
   "execution_count": null,
   "id": "e76b8087-2daa-460a-bac9-25cca64fb27a",
   "metadata": {},
   "outputs": [],
   "source": [
    "# This provides a summary of regions defined in the previous step. The selected region is highlighted in black.\n",
    "# The number in the function below corresponds to region ID - change it to select a different region. \n",
    "d.region_inspect(74, labels, df_hex, df_mean, df_norm)"
   ]
  },
  {
   "cell_type": "markdown",
   "id": "334ba1f4-f69b-45eb-b4f1-a309698a30b1",
   "metadata": {},
   "source": [
    "## Impute clusters from scRNA-seq"
   ]
  },
  {
   "cell_type": "code",
   "execution_count": null,
   "id": "bb285cd0-516c-47ae-923d-7fbcdf511aa5",
   "metadata": {},
   "outputs": [],
   "source": [
    "# Connect to the single-cell aggregate dataset\n",
    "with loompy.connect(sc_data) as ds:\n",
    "\n",
    "    # Select matching genes\n",
    "    gene_filt = np.isin(ds.ra.Gene, df_hex.index.to_numpy())\n",
    "    \n",
    "    # Exclude non-brain regions. You can try modifying the list to see how it affects the results\n",
    "    exclude_region = ['Enteric nervous system', 'Sympathetic ganglion', 'Dorsal root ganglion', 'Spinal cord', 'Dorsal root ganglion,Sympathetic ganglion' ]\n",
    "    region_filt = np.isin(ds.ca.Region, exclude_region, invert=True)\n",
    "    \n",
    "    # Select data based on regions and genes\n",
    "    wb_data=ds[:,:][gene_filt, :]\n",
    "    wb_data = wb_data[:,region_filt]\n",
    "    wb_genes = ds.ra.Gene[gene_filt]\n",
    "    \n",
    "    # Cluster names\n",
    "    cluster_name_dict = dict(zip(ds.ca.ClusterName[region_filt], range(len(ds.ca.ClusterName[region_filt]))))\n",
    "    cluster_description_dict = dict(zip(ds.ca.ClusterName[region_filt], (ds.ca.Description[region_filt])))\n",
    "    \n",
    "    # Make the dataframe\n",
    "    wb_df = pd.DataFrame(wb_data, index = wb_genes, columns=ds.ca.ClusterName[region_filt])\n",
    "    \n",
    "    # Size input for the single cell data is the number of cells per cluster.\n",
    "    wb_size = ds.ca.NCells[region_filt]\n",
    "    \n",
    "    # Size input for the spatial data is an array of ones because the hexagons are all equal in size.\n",
    "    hb_size_equal = np.ones(df_hex.shape[1])\n",
    "\n",
    "    # Create the model. You can try setting 'num_epochs' to something lower to see how it affects the results\n",
    "    model, y = d.bonefight(wb_df, wb_size, X_2=df_hex, volume_2=hb_size_equal, plot=True, transform=True, num_epochs=100)"
   ]
  },
  {
   "cell_type": "code",
   "execution_count": null,
   "id": "e316f868-aae4-4699-b374-52163560a25c",
   "metadata": {},
   "outputs": [],
   "source": [
    "# Plot a few example cluster spatial probabilities\n",
    "cortex_layers = ['TEGLU2', 'TEGLU3', 'TEGLU4', 'OEC', 'EPEN','ACBG', 'ACTE2', 'ACNT2']\n",
    "\n",
    "for cluster in cortex_layers:\n",
    "\n",
    "    idx = np.where(wb_df.columns==cluster)[0][0]\n",
    "    \n",
    "    # Get max value to normalize for each plot\n",
    "    max_y = y[:,idx].max()\n",
    "    \n",
    "    d.hexbin_plot(y[:,idx], vmin=0, vmax=max_y, cm=plt.cm.hot)\n",
    "    \n",
    "    plt.axis('off')\n",
    "    cluster_desctription = cluster_description_dict[cluster]\n",
    "    plt.title(f'{cluster} {cluster_desctription}', fontsize=16, y=1.05)"
   ]
  },
  {
   "cell_type": "markdown",
   "id": "200ff935-a921-48bb-bfb2-56160a65f6b3",
   "metadata": {},
   "source": [
    "## Impute gene expression from EEL data"
   ]
  },
  {
   "cell_type": "code",
   "execution_count": null,
   "id": "978384d3-7482-4f32-aab1-2a8b3adc10c6",
   "metadata": {
    "scrolled": true
   },
   "outputs": [],
   "source": [
    "#Plot the imputed spatial gene expression of a gene\n",
    "genes = ['Pitx3', 'Ppp1r1b', 'Six3']\n",
    "\n",
    "# Connect to the single-cell aggregate dataset\n",
    "with loompy.connect(sc_data) as ds:\n",
    "    for gene in genes:\n",
    "        # Get the full single cell dataset\n",
    "        wb_data_full= ds[:,:][:, region_filt]\n",
    "        \n",
    "        # Impute spatial gene expression\n",
    "        y_full = model.transform(wb_data_full.T)\n",
    "        \n",
    "        #Test if gene was measured (True) or imputed (False)\n",
    "        print(f'{gene} was measured by original EEL dataset: {np.isin(gene, d.unique_genes)}')\n",
    "        \n",
    "        # Get index of gene\n",
    "        gene_index = np.where(ds.ra.Gene == gene)[0][0]\n",
    "        \n",
    "        # Plot imputed gene expression\n",
    "        d.hexbin_plot(y_full[:, gene_index])\n",
    "        \n",
    "        plt.title(gene, fontsize=16)\n",
    "        plt.axis('off');\n"
   ]
  },
  {
   "cell_type": "code",
   "execution_count": null,
   "id": "4372de55-679b-4f66-b52b-a1818ed0635f",
   "metadata": {},
   "outputs": [],
   "source": []
  }
 ],
 "metadata": {
  "kernelspec": {
   "display_name": "fish",
   "language": "python",
   "name": "fish"
  },
  "language_info": {
   "codemirror_mode": {
    "name": "ipython",
    "version": 3
   },
   "file_extension": ".py",
   "mimetype": "text/x-python",
   "name": "python",
   "nbconvert_exporter": "python",
   "pygments_lexer": "ipython3",
   "version": "3.9.19"
  }
 },
 "nbformat": 4,
 "nbformat_minor": 5
}
